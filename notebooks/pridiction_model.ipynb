{
 "cells": [
  {
   "cell_type": "markdown",
   "metadata": {},
   "source": [
    "## Prediction of store sales"
   ]
  },
  {
   "cell_type": "code",
   "execution_count": 32,
   "metadata": {},
   "outputs": [],
   "source": [
    "import sys\n",
    "import pandas as pd\n",
    "sys.path.append('../scripts')\n",
    "from data_preprocessing import load_data\n",
    "import numpy as np\n",
    "import matplotlib.pyplot as plt\n",
    "import seaborn as sns\n",
    "import logging"
   ]
  },
  {
   "cell_type": "markdown",
   "metadata": {},
   "source": [
    "#### Initialize logger"
   ]
  },
  {
   "cell_type": "code",
   "execution_count": 33,
   "metadata": {},
   "outputs": [],
   "source": [
    "# Initialize logger\n",
    "logging.basicConfig(filename='../logs/prediction.log', level=logging.INFO, \n",
    "                    format='%(asctime)s - %(levelname)s - %(message)s')"
   ]
  },
  {
   "cell_type": "markdown",
   "metadata": {},
   "source": [
    "#### load data"
   ]
  },
  {
   "cell_type": "code",
   "execution_count": 34,
   "metadata": {},
   "outputs": [],
   "source": [
    "test_file_path = '../data/test.csv'\n",
    "train_file_path = '../data/train.csv'\n",
    "store_file_path = '../data/store.csv'"
   ]
  },
  {
   "cell_type": "code",
   "execution_count": 35,
   "metadata": {},
   "outputs": [
    {
     "name": "stderr",
     "output_type": "stream",
     "text": [
      "c:\\Users\\zelalem.wubet\\projects\\personal\\ten-academy\\new\\Sales_Forecasting_Rossmann_Pharmaceuticals\\notebooks\\../scripts\\data_preprocessing.py:14: DtypeWarning: Columns (7) have mixed types. Specify dtype option on import or set low_memory=False.\n",
      "  df = pd.read_csv(file_path)\n"
     ]
    }
   ],
   "source": [
    "test_df=load_data(test_file_path)\n",
    "train_df=load_data(train_file_path)\n",
    "store_df=load_data(store_file_path)"
   ]
  },
  {
   "cell_type": "markdown",
   "metadata": {},
   "source": [
    "#### merge train and test data with store data"
   ]
  },
  {
   "cell_type": "code",
   "execution_count": 36,
   "metadata": {},
   "outputs": [],
   "source": [
    "train_df  = train_df.merge(store_df, how='left', on='Store')\n",
    "test_df = test_df.merge(store_df, how='left', on='Store')"
   ]
  },
  {
   "cell_type": "code",
   "execution_count": 37,
   "metadata": {},
   "outputs": [],
   "source": [
    "train_df['Date'] = pd.to_datetime(train_df.Date)\n",
    "test_df['Date'] = pd.to_datetime(test_df.Date)"
   ]
  },
  {
   "cell_type": "code",
   "execution_count": 38,
   "metadata": {},
   "outputs": [],
   "source": [
    "# train_df['StateHoliday'] = train_df['StateHoliday'].astype('category')\n",
    "# test_df['StateHoliday'] = test_df['StateHoliday'].astype('category')\n"
   ]
  },
  {
   "cell_type": "markdown",
   "metadata": {},
   "source": [
    "## Preprocessing"
   ]
  },
  {
   "cell_type": "markdown",
   "metadata": {},
   "source": [
    "#### Extract Features from Datetime Columns"
   ]
  },
  {
   "cell_type": "code",
   "execution_count": 39,
   "metadata": {},
   "outputs": [],
   "source": [
    "# Extracting features from date\n",
    "train_df['Day'] = train_df['Date'].dt.day\n",
    "train_df['Weekday'] = train_df['Date'].dt.weekday\n",
    "train_df['IsWeekend'] = train_df['Weekday'] >= 5\n",
    "train_df['Month'] = train_df['Date'].dt.month\n",
    "train_df['IsBeginningOfMonth'] = train_df['Day'] <= 10\n",
    "train_df['IsMidMonth'] = (train_df['Day'] > 10) & (train_df['Day'] <= 20)\n",
    "train_df['IsEndOfMonth'] = train_df['Day'] > 20\n",
    "train_df['Year'] = train_df.Date.dt.year"
   ]
  },
  {
   "cell_type": "code",
   "execution_count": 40,
   "metadata": {},
   "outputs": [],
   "source": [
    "test_df['Day'] = test_df.Date.dt.day\n",
    "test_df['Month'] = test_df.Date.dt.month\n",
    "test_df['Year'] = test_df.Date.dt.year"
   ]
  },
  {
   "cell_type": "code",
   "execution_count": 41,
   "metadata": {},
   "outputs": [],
   "source": [
    "# # Feature: beginning, mid, and end of the month\n",
    "# train_df['MonthPeriod'] = train_df['Day'].apply(lambda x: 'beginning' if x <= 10 else ('middle' if x <= 20 else 'end'))\n",
    "\n",
    "# # Encode the 'MonthPeriod' feature as numerical\n",
    "# train_df['MonthPeriod'] = train_df['MonthPeriod'].map({'beginning': 1, 'middle': 2, 'end': 3})"
   ]
  },
  {
   "cell_type": "code",
   "execution_count": 42,
   "metadata": {},
   "outputs": [
    {
     "data": {
      "text/plain": [
       "Index(['Store', 'DayOfWeek', 'Date', 'Sales', 'Customers', 'Open', 'Promo',\n",
       "       'StateHoliday', 'SchoolHoliday', 'StoreType', 'Assortment',\n",
       "       'CompetitionDistance', 'CompetitionOpenSinceMonth',\n",
       "       'CompetitionOpenSinceYear', 'Promo2', 'Promo2SinceWeek',\n",
       "       'Promo2SinceYear', 'PromoInterval', 'Day', 'Weekday', 'IsWeekend',\n",
       "       'Month', 'IsBeginningOfMonth', 'IsMidMonth', 'IsEndOfMonth', 'Year'],\n",
       "      dtype='object')"
      ]
     },
     "execution_count": 42,
     "metadata": {},
     "output_type": "execute_result"
    }
   ],
   "source": [
    "train_df.columns"
   ]
  },
  {
   "cell_type": "code",
   "execution_count": 43,
   "metadata": {},
   "outputs": [
    {
     "name": "stdout",
     "output_type": "stream",
     "text": [
      "['0' 'a' 'b' 'c']\n"
     ]
    }
   ],
   "source": [
    "input_cols = ['Store', 'DayOfWeek', 'Promo', 'StateHoliday', 'StoreType', 'Assortment', 'Day', 'Month', 'Year']\n",
    "target_col = 'Sales'\n",
    "\n",
    "\n",
    "\n",
    "train_df['StateHoliday'] = train_df['StateHoliday'].astype(str)\n",
    "unique_values = train_df['StateHoliday'].unique()\n",
    "print(unique_values)\n",
    "\n",
    "train_inputs = train_df[input_cols].copy()\n",
    "train_targets = train_df[target_col].copy()\n",
    "\n",
    "\n",
    "numeric_cols = ['Store', 'Day', 'Month', 'Year']\n",
    "categorical_cols = ['DayOfWeek', 'Promo', 'StateHoliday', 'StoreType', 'Assortment']\n",
    "\n",
    "test_inputs = test_df[input_cols].copy()"
   ]
  },
  {
   "cell_type": "markdown",
   "metadata": {},
   "source": [
    "### handle missing value"
   ]
  },
  {
   "cell_type": "code",
   "execution_count": 44,
   "metadata": {},
   "outputs": [],
   "source": [
    "from sklearn.impute import SimpleImputer\n",
    "imputer = SimpleImputer(strategy='mean').fit(train_inputs[numeric_cols])\n",
    "\n",
    "train_inputs[numeric_cols] = imputer.transform(train_inputs[numeric_cols])\n",
    "test_inputs[numeric_cols] = imputer.transform(test_inputs[numeric_cols])"
   ]
  },
  {
   "cell_type": "markdown",
   "metadata": {},
   "source": [
    "###  # Scale the data"
   ]
  },
  {
   "cell_type": "code",
   "execution_count": 45,
   "metadata": {},
   "outputs": [],
   "source": [
    "from sklearn.preprocessing import MinMaxScaler\n",
    "scaler = MinMaxScaler().fit(train_inputs[numeric_cols])\n",
    "\n",
    "train_inputs[numeric_cols] = scaler.transform(train_inputs[numeric_cols])\n",
    "test_inputs[numeric_cols] = scaler.transform(test_inputs[numeric_cols])"
   ]
  },
  {
   "cell_type": "markdown",
   "metadata": {},
   "source": [
    "### # Convert categorical to numeric"
   ]
  },
  {
   "cell_type": "code",
   "execution_count": 46,
   "metadata": {},
   "outputs": [],
   "source": [
    "from sklearn.preprocessing import OneHotEncoder\n",
    "\n",
    "encoder = OneHotEncoder(sparse_output=False, handle_unknown='ignore').fit(train_inputs[categorical_cols])\n",
    "encoded_cols = list(encoder.get_feature_names_out(categorical_cols))"
   ]
  },
  {
   "cell_type": "code",
   "execution_count": 47,
   "metadata": {},
   "outputs": [],
   "source": [
    "train_inputs[encoded_cols] = encoder.transform(train_inputs[categorical_cols])\n",
    "test_inputs[encoded_cols] = encoder.transform(test_inputs[categorical_cols])"
   ]
  },
  {
   "cell_type": "markdown",
   "metadata": {},
   "source": [
    "### # Define the target variable and drop unnecessary columns"
   ]
  },
  {
   "cell_type": "code",
   "execution_count": 48,
   "metadata": {},
   "outputs": [],
   "source": [
    "X_train = train_inputs[numeric_cols + encoded_cols]\n",
    "X_test = test_inputs[numeric_cols + encoded_cols]"
   ]
  },
  {
   "cell_type": "code",
   "execution_count": 49,
   "metadata": {},
   "outputs": [
    {
     "data": {
      "text/plain": [
       "Index(['Store', 'Day', 'Month', 'Year', 'DayOfWeek_1', 'DayOfWeek_2',\n",
       "       'DayOfWeek_3', 'DayOfWeek_4', 'DayOfWeek_5', 'DayOfWeek_6',\n",
       "       'DayOfWeek_7', 'Promo_0', 'Promo_1', 'StateHoliday_0', 'StateHoliday_a',\n",
       "       'StateHoliday_b', 'StateHoliday_c', 'StoreType_a', 'StoreType_b',\n",
       "       'StoreType_c', 'StoreType_d', 'Assortment_a', 'Assortment_b',\n",
       "       'Assortment_c'],\n",
       "      dtype='object')"
      ]
     },
     "execution_count": 49,
     "metadata": {},
     "output_type": "execute_result"
    }
   ],
   "source": [
    "X_train.columns"
   ]
  },
  {
   "cell_type": "code",
   "execution_count": 50,
   "metadata": {},
   "outputs": [],
   "source": [
    "import pickle\n",
    "from datetime import datetime\n",
    "from sklearn.model_selection import train_test_split\n",
    "from sklearn.metrics import mean_squared_error, r2_score\n",
    "\n",
    "# Function to train, evaluate, and serialize a model\n",
    "def train_evaluate_serialize_model(model, X_train, train_targets, test_size=0.2, random_state=42):\n",
    "    # Step 1: Split the data into training and validation sets\n",
    "    X_train_split, X_val_split, y_train_split, y_val_split = train_test_split(\n",
    "        X_train, train_targets, test_size=test_size, random_state=random_state\n",
    "    )\n",
    "    \n",
    "    # Step 2: Fit the model on the training data\n",
    "    model.fit(X_train_split, y_train_split)\n",
    "    \n",
    "    # Step 3: Make predictions on the validation data\n",
    "    y_val_pred = model.predict(X_val_split)\n",
    "    \n",
    "    # Step 4: Evaluate the model using metrics like Mean Squared Error (MSE) and R-squared (R2)\n",
    "    mse = mean_squared_error(y_val_split, y_val_pred)\n",
    "    r2 = r2_score(y_val_split, y_val_pred)\n",
    "    \n",
    "    # Step 5: Serialize the model with a timestamp\n",
    "    timestamp = datetime.now().strftime('%d-%m-%Y-%H-%M-%S-%f')\n",
    "    model_filename = f'model_{timestamp}.pkl'\n",
    "    with open(model_filename, 'wb') as model_file:\n",
    "        pickle.dump(model, model_file)\n",
    "    \n",
    "    print(f\"Model serialized as {model_filename}\")\n",
    "    \n",
    "    # Step 6: Return the MSE, R-squared values, and the model filename\n",
    "    return mse, r2, model_filename"
   ]
  },
  {
   "cell_type": "code",
   "execution_count": 27,
   "metadata": {},
   "outputs": [
    {
     "name": "stdout",
     "output_type": "stream",
     "text": [
      "Model serialized as model_23-09-2024-14-54-57-014540.pkl\n",
      "Decision Tree - Validation MSE: 2443787.189606866, R2: 0.8347541502906082\n",
      "Serialized model saved as: model_23-09-2024-14-54-57-014540.pkl\n"
     ]
    }
   ],
   "source": [
    "# Example usage with Decision Tree\n",
    "from sklearn.tree import DecisionTreeRegressor\n",
    "\n",
    "# Instantiate the DecisionTreeRegressor\n",
    "dt_model = DecisionTreeRegressor(random_state=42)\n",
    "\n",
    "# Train, evaluate, and serialize the Decision Tree model\n",
    "mse, r2, model_filename = train_evaluate_serialize_model(dt_model, X_train, train_targets)\n",
    "\n",
    "# Print the evaluation results\n",
    "print(f\"Decision Tree - Validation MSE: {mse}, R2: {r2}\")\n",
    "print(f\"Serialized model saved as: {model_filename}\")\n"
   ]
  },
  {
   "cell_type": "code",
   "execution_count": 51,
   "metadata": {},
   "outputs": [
    {
     "name": "stdout",
     "output_type": "stream",
     "text": [
      "Model serialized as model_23-09-2024-21-12-21-174009.pkl\n",
      "Random Forest - Validation MSE: 1393086.2023060962, R2: 0.9058012439882159\n",
      "Serialized model saved as: model_23-09-2024-21-12-21-174009.pkl\n"
     ]
    }
   ],
   "source": [
    "# Example usage with Random Forest\n",
    "from sklearn.ensemble import RandomForestRegressor\n",
    "\n",
    "# Instantiate a RandomForestRegressor\n",
    "rf_model = RandomForestRegressor(n_estimators=100, random_state=42)\n",
    "\n",
    "# Train, evaluate, and serialize the RandomForest model\n",
    "mse, r2, model_filename = train_evaluate_serialize_model(rf_model, X_train, train_targets)\n",
    "\n",
    "# Print the evaluation results\n",
    "print(f\"Random Forest - Validation MSE: {mse}, R2: {r2}\")\n",
    "print(f\"Serialized model saved as: {model_filename}\")"
   ]
  },
  {
   "cell_type": "markdown",
   "metadata": {},
   "source": [
    "### Feature importance"
   ]
  },
  {
   "cell_type": "code",
   "execution_count": 29,
   "metadata": {},
   "outputs": [
    {
     "data": {
      "text/html": [
       "<div>\n",
       "<style scoped>\n",
       "    .dataframe tbody tr th:only-of-type {\n",
       "        vertical-align: middle;\n",
       "    }\n",
       "\n",
       "    .dataframe tbody tr th {\n",
       "        vertical-align: top;\n",
       "    }\n",
       "\n",
       "    .dataframe thead th {\n",
       "        text-align: right;\n",
       "    }\n",
       "</style>\n",
       "<table border=\"1\" class=\"dataframe\">\n",
       "  <thead>\n",
       "    <tr style=\"text-align: right;\">\n",
       "      <th></th>\n",
       "      <th>feature</th>\n",
       "      <th>importance</th>\n",
       "    </tr>\n",
       "  </thead>\n",
       "  <tbody>\n",
       "    <tr>\n",
       "      <th>10</th>\n",
       "      <td>DayOfWeek_7</td>\n",
       "      <td>0.346864</td>\n",
       "    </tr>\n",
       "    <tr>\n",
       "      <th>0</th>\n",
       "      <td>Store</td>\n",
       "      <td>0.329737</td>\n",
       "    </tr>\n",
       "    <tr>\n",
       "      <th>13</th>\n",
       "      <td>StateHoliday_0</td>\n",
       "      <td>0.087559</td>\n",
       "    </tr>\n",
       "    <tr>\n",
       "      <th>11</th>\n",
       "      <td>Promo_0</td>\n",
       "      <td>0.041565</td>\n",
       "    </tr>\n",
       "    <tr>\n",
       "      <th>12</th>\n",
       "      <td>Promo_1</td>\n",
       "      <td>0.032657</td>\n",
       "    </tr>\n",
       "    <tr>\n",
       "      <th>18</th>\n",
       "      <td>StoreType_b</td>\n",
       "      <td>0.030655</td>\n",
       "    </tr>\n",
       "    <tr>\n",
       "      <th>1</th>\n",
       "      <td>Day</td>\n",
       "      <td>0.029350</td>\n",
       "    </tr>\n",
       "    <tr>\n",
       "      <th>2</th>\n",
       "      <td>Month</td>\n",
       "      <td>0.028235</td>\n",
       "    </tr>\n",
       "    <tr>\n",
       "      <th>4</th>\n",
       "      <td>DayOfWeek_1</td>\n",
       "      <td>0.017776</td>\n",
       "    </tr>\n",
       "    <tr>\n",
       "      <th>3</th>\n",
       "      <td>Year</td>\n",
       "      <td>0.009270</td>\n",
       "    </tr>\n",
       "  </tbody>\n",
       "</table>\n",
       "</div>"
      ],
      "text/plain": [
       "           feature  importance\n",
       "10     DayOfWeek_7    0.346864\n",
       "0            Store    0.329737\n",
       "13  StateHoliday_0    0.087559\n",
       "11         Promo_0    0.041565\n",
       "12         Promo_1    0.032657\n",
       "18     StoreType_b    0.030655\n",
       "1              Day    0.029350\n",
       "2            Month    0.028235\n",
       "4      DayOfWeek_1    0.017776\n",
       "3             Year    0.009270"
      ]
     },
     "execution_count": 29,
     "metadata": {},
     "output_type": "execute_result"
    }
   ],
   "source": [
    "rf_model.feature_importances_\n",
    "importance_df = pd.DataFrame({\n",
    "    'feature': numeric_cols+encoded_cols,\n",
    "    'importance': rf_model.feature_importances_\n",
    "}).sort_values('importance', ascending=False)\n",
    "importance_df.head(10)"
   ]
  },
  {
   "cell_type": "code",
   "execution_count": 30,
   "metadata": {},
   "outputs": [
    {
     "data": {
      "image/png": "[encoded data removed]",
      "text/plain": [
       "<Figure size 640x480 with 1 Axes>"
      ]
     },
     "metadata": {},
     "output_type": "display_data"
    }
   ],
   "source": [
    "\n",
    "sns.barplot(data=importance_df.head(10), x='importance', y='feature');\n"
   ]
  },
  {
   "cell_type": "code",
   "execution_count": 32,
   "metadata": {},
   "outputs": [],
   "source": [
    "# # Isolate Store and Sales columns for time series prediction\n",
    "# store_sales_df = train_df[['Store', 'Date', 'Sales']].set_index('Date')\n"
   ]
  },
  {
   "cell_type": "code",
   "execution_count": 31,
   "metadata": {},
   "outputs": [],
   "source": [
    "# from statsmodels.tsa.stattools import adfuller\n",
    "\n",
    "# result = adfuller(store_sales_df['Sales'])\n",
    "# print(f'ADF Statistic: {result[0]}')\n",
    "# print(f'p-value: {result[1]}')\n"
   ]
  },
  {
   "cell_type": "code",
   "execution_count": 21,
   "metadata": {},
   "outputs": [
    {
     "name": "stderr",
     "output_type": "stream",
     "text": [
      "c:\\Users\\zelalem.wubet\\projects\\personal\\ten-academy\\new\\Sales_Forecasting_Rossmann_Pharmaceuticals\\venv\\Lib\\site-packages\\keras\\src\\layers\\rnn\\rnn.py:204: UserWarning: Do not pass an `input_shape`/`input_dim` argument to a layer. When using Sequential models, prefer using an `Input(shape)` object as the first layer in the model instead.\n",
      "  super().__init__(**kwargs)\n"
     ]
    },
    {
     "name": "stdout",
     "output_type": "stream",
     "text": [
      "Epoch 1/20\n",
      "\u001b[1m31788/31788\u001b[0m \u001b[32m━━━━━━━━━━━━━━━━━━━━\u001b[0m\u001b[37m\u001b[0m \u001b[1m104s\u001b[0m 3ms/step - loss: 5508.8633\n",
      "Epoch 2/20\n",
      "\u001b[1m31788/31788\u001b[0m \u001b[32m━━━━━━━━━━━━━━━━━━━━\u001b[0m\u001b[37m\u001b[0m \u001b[1m107s\u001b[0m 3ms/step - loss: 4483.4614\n",
      "Epoch 3/20\n",
      "\u001b[1m31788/31788\u001b[0m \u001b[32m━━━━━━━━━━━━━━━━━━━━\u001b[0m\u001b[37m\u001b[0m \u001b[1m129s\u001b[0m 4ms/step - loss: 3487.7322\n",
      "Epoch 4/20\n",
      "\u001b[1m31788/31788\u001b[0m \u001b[32m━━━━━━━━━━━━━━━━━━━━\u001b[0m\u001b[37m\u001b[0m \u001b[1m103s\u001b[0m 3ms/step - loss: 2627.3950\n",
      "Epoch 5/20\n",
      "\u001b[1m31788/31788\u001b[0m \u001b[32m━━━━━━━━━━━━━━━━━━━━\u001b[0m\u001b[37m\u001b[0m \u001b[1m87s\u001b[0m 3ms/step - loss: 2066.9946\n",
      "Epoch 6/20\n",
      "\u001b[1m31788/31788\u001b[0m \u001b[32m━━━━━━━━━━━━━━━━━━━━\u001b[0m\u001b[37m\u001b[0m \u001b[1m89s\u001b[0m 3ms/step - loss: 1794.5986\n",
      "Epoch 7/20\n",
      "\u001b[1m31788/31788\u001b[0m \u001b[32m━━━━━━━━━━━━━━━━━━━━\u001b[0m\u001b[37m\u001b[0m \u001b[1m106s\u001b[0m 3ms/step - loss: 1684.0280\n",
      "Epoch 8/20\n",
      "\u001b[1m31788/31788\u001b[0m \u001b[32m━━━━━━━━━━━━━━━━━━━━\u001b[0m\u001b[37m\u001b[0m \u001b[1m124s\u001b[0m 4ms/step - loss: 1642.9377\n",
      "Epoch 9/20\n",
      "\u001b[1m31788/31788\u001b[0m \u001b[32m━━━━━━━━━━━━━━━━━━━━\u001b[0m\u001b[37m\u001b[0m \u001b[1m99s\u001b[0m 3ms/step - loss: 1613.3416\n",
      "Epoch 10/20\n",
      "\u001b[1m31788/31788\u001b[0m \u001b[32m━━━━━━━━━━━━━━━━━━━━\u001b[0m\u001b[37m\u001b[0m \u001b[1m87s\u001b[0m 3ms/step - loss: 1597.6376\n",
      "Epoch 11/20\n",
      "\u001b[1m31788/31788\u001b[0m \u001b[32m━━━━━━━━━━━━━━━━━━━━\u001b[0m\u001b[37m\u001b[0m \u001b[1m85s\u001b[0m 3ms/step - loss: 1583.1588\n",
      "Epoch 12/20\n",
      "\u001b[1m31788/31788\u001b[0m \u001b[32m━━━━━━━━━━━━━━━━━━━━\u001b[0m\u001b[37m\u001b[0m \u001b[1m105s\u001b[0m 3ms/step - loss: 1576.6322\n",
      "Epoch 13/20\n",
      "\u001b[1m31788/31788\u001b[0m \u001b[32m━━━━━━━━━━━━━━━━━━━━\u001b[0m\u001b[37m\u001b[0m \u001b[1m106s\u001b[0m 3ms/step - loss: 1573.1040\n",
      "Epoch 14/20\n",
      "\u001b[1m31788/31788\u001b[0m \u001b[32m━━━━━━━━━━━━━━━━━━━━\u001b[0m\u001b[37m\u001b[0m \u001b[1m98s\u001b[0m 3ms/step - loss: 1567.1027\n",
      "Epoch 15/20\n",
      "\u001b[1m31788/31788\u001b[0m \u001b[32m━━━━━━━━━━━━━━━━━━━━\u001b[0m\u001b[37m\u001b[0m \u001b[1m124s\u001b[0m 4ms/step - loss: 1563.3490\n",
      "Epoch 16/20\n",
      "\u001b[1m31788/31788\u001b[0m \u001b[32m━━━━━━━━━━━━━━━━━━━━\u001b[0m\u001b[37m\u001b[0m \u001b[1m103s\u001b[0m 3ms/step - loss: 1559.9404\n",
      "Epoch 17/20\n",
      "\u001b[1m31788/31788\u001b[0m \u001b[32m━━━━━━━━━━━━━━━━━━━━\u001b[0m\u001b[37m\u001b[0m \u001b[1m96s\u001b[0m 3ms/step - loss: 1555.8048\n",
      "Epoch 18/20\n",
      "\u001b[1m31788/31788\u001b[0m \u001b[32m━━━━━━━━━━━━━━━━━━━━\u001b[0m\u001b[37m\u001b[0m \u001b[1m100s\u001b[0m 3ms/step - loss: 1553.9188\n",
      "Epoch 19/20\n",
      "\u001b[1m31788/31788\u001b[0m \u001b[32m━━━━━━━━━━━━━━━━━━━━\u001b[0m\u001b[37m\u001b[0m \u001b[1m90s\u001b[0m 3ms/step - loss: 1551.1232\n",
      "Epoch 20/20\n",
      "\u001b[1m31788/31788\u001b[0m \u001b[32m━━━━━━━━━━━━━━━━━━━━\u001b[0m\u001b[37m\u001b[0m \u001b[1m107s\u001b[0m 3ms/step - loss: 1547.4733\n",
      "\u001b[1m1284/1284\u001b[0m \u001b[32m━━━━━━━━━━━━━━━━━━━━\u001b[0m\u001b[37m\u001b[0m \u001b[1m3s\u001b[0m 2ms/step\n"
     ]
    },
    {
     "ename": "NameError",
     "evalue": "name 'test_targets' is not defined",
     "output_type": "error",
     "traceback": [
      "\u001b[1;31m---------------------------------------------------------------------------\u001b[0m",
      "\u001b[1;31mNameError\u001b[0m                                 Traceback (most recent call last)",
      "Cell \u001b[1;32mIn[21], line 30\u001b[0m\n\u001b[0;32m     27\u001b[0m y_pred \u001b[38;5;241m=\u001b[39m model\u001b[38;5;241m.\u001b[39mpredict(X_test_lstm)\n\u001b[0;32m     29\u001b[0m \u001b[38;5;66;03m# Calculate R² Score\u001b[39;00m\n\u001b[1;32m---> 30\u001b[0m r2 \u001b[38;5;241m=\u001b[39m r2_score(\u001b[43mtest_targets\u001b[49m, y_pred)\n\u001b[0;32m     32\u001b[0m \u001b[38;5;28mprint\u001b[39m(\u001b[38;5;124mf\u001b[39m\u001b[38;5;124m\"\u001b[39m\u001b[38;5;124mR² score: \u001b[39m\u001b[38;5;132;01m{\u001b[39;00mr2\u001b[38;5;132;01m}\u001b[39;00m\u001b[38;5;124m\"\u001b[39m)\n",
      "\u001b[1;31mNameError\u001b[0m: name 'test_targets' is not defined"
     ]
    }
   ],
   "source": [
    "import numpy as np\n",
    "from sklearn.metrics import r2_score\n",
    "\n",
    "# Reshape input data to 3D for LSTM\n",
    "X_lstm = X_train.values.reshape((X_train.shape[0], 1, X_train.shape[1]))\n",
    "y_lstm = train_targets.values\n",
    "\n",
    "import tensorflow as tf\n",
    "from tensorflow.keras.models import Sequential\n",
    "from tensorflow.keras.layers import LSTM, Dense\n",
    "\n",
    "# Define LSTM model\n",
    "model = Sequential([\n",
    "    LSTM(50, input_shape=(X_lstm.shape[1], X_lstm.shape[2]), return_sequences=True),\n",
    "    LSTM(50),\n",
    "    Dense(1)   # Output layer\n",
    "])\n",
    "\n",
    "# Compile the model\n",
    "model.compile(optimizer='adam', loss='mean_absolute_error')\n",
    "\n",
    "# Train the model\n",
    "model.fit(X_lstm, y_lstm, epochs=20, batch_size=32)\n",
    "\n",
    "# Predict using the test data\n",
    "X_test_lstm = X_test.values.reshape((X_test.shape[0], 1, X_test.shape[1]))  # Reshape test data\n",
    "y_pred = model.predict(X_test_lstm)\n",
    "\n",
    "\n"
   ]
  },
  {
   "cell_type": "code",
   "execution_count": 23,
   "metadata": {},
   "outputs": [],
   "source": [
    "model.save('lstm_sales_model.h5')"
   ]
  },
  {
   "cell_type": "code",
   "execution_count": 24,
   "metadata": {},
   "outputs": [],
   "source": [
    "def predict_input(model, single_input):\n",
    "    if single_input['Open'] == 0:\n",
    "        return 0.\n",
    "    input_df = pd.DataFrame([single_input])\n",
    "    input_df['Date'] = pd.to_datetime(input_df.Date)\n",
    "    input_df['Day'] = input_df.Date.dt.day\n",
    "    input_df['Month'] = input_df.Date.dt.month\n",
    "    input_df['Year'] = input_df.Date.dt.year\n",
    "    input_df[numeric_cols] = imputer.transform(input_df[numeric_cols])\n",
    "    input_df[numeric_cols] = scaler.transform(input_df[numeric_cols])\n",
    "    input_df[encoded_cols] = encoder.transform(input_df[categorical_cols])\n",
    "    X_input = input_df[numeric_cols + encoded_cols]\n",
    "    pred = model.predict(X_input)[0]\n",
    "    return pred"
   ]
  },
  {
   "cell_type": "code",
   "execution_count": 25,
   "metadata": {},
   "outputs": [
    {
     "data": {
      "text/plain": [
       "{'Id': 1,\n",
       " 'Store': 1,\n",
       " 'DayOfWeek': 4,\n",
       " 'Date': '2015-09-17 00:00:00',\n",
       " 'Open': 1.0,\n",
       " 'Promo': 1,\n",
       " 'StateHoliday': '0',\n",
       " 'SchoolHoliday': 0,\n",
       " 'StoreType': 'c',\n",
       " 'Assortment': 'a',\n",
       " 'CompetitionDistance': 1270.0,\n",
       " 'CompetitionOpenSinceMonth': 9.0,\n",
       " 'CompetitionOpenSinceYear': 2008.0,\n",
       " 'Promo2': 0,\n",
       " 'Promo2SinceWeek': nan,\n",
       " 'Promo2SinceYear': nan,\n",
       " 'PromoInterval': nan}"
      ]
     },
     "execution_count": 25,
     "metadata": {},
     "output_type": "execute_result"
    }
   ],
   "source": [
    "sample_input = {'Id': 1,\n",
    " 'Store': 1,\n",
    " 'DayOfWeek': 4,\n",
    " 'Date': '2015-09-17 00:00:00',\n",
    " 'Open': 1.0,\n",
    " 'Promo': 1,\n",
    " 'StateHoliday': '0',\n",
    " 'SchoolHoliday': 0,\n",
    " 'StoreType': 'c',\n",
    " 'Assortment': 'a',\n",
    " 'CompetitionDistance': 1270.0,\n",
    " 'CompetitionOpenSinceMonth': 9.0,\n",
    " 'CompetitionOpenSinceYear': 2008.0,\n",
    " 'Promo2': 0,\n",
    " 'Promo2SinceWeek': np.nan,\n",
    " 'Promo2SinceYear': np.nan,\n",
    " 'PromoInterval': np.nan}\n",
    "\n",
    "sample_input"
   ]
  },
  {
   "cell_type": "code",
   "execution_count": 29,
   "metadata": {},
   "outputs": [],
   "source": [
    "from sklearn.ensemble import RandomForestRegressor\n",
    "\n",
    "rf = RandomForestRegressor(random_state=42, n_jobs=-1)"
   ]
  },
  {
   "cell_type": "code",
   "execution_count": 52,
   "metadata": {},
   "outputs": [
    {
     "data": {
      "text/plain": [
       "4288.04"
      ]
     },
     "execution_count": 52,
     "metadata": {},
     "output_type": "execute_result"
    }
   ],
   "source": [
    "predict_input(rf_model, sample_input)"
   ]
  }
 ],
 "metadata": {
  "kernelspec": {
   "display_name": "venv",
   "language": "python",
   "name": "python3"
  },
  "language_info": {
   "codemirror_mode": {
    "name": "ipython",
    "version": 3
   },
   "file_extension": ".py",
   "mimetype": "text/x-python",
   "name": "python",
   "nbconvert_exporter": "python",
   "pygments_lexer": "ipython3",
   "version": "3.12.3"
  }
 },
 "nbformat": 4,
 "nbformat_minor": 2
}
